{
 "cells": [
  {
   "cell_type": "code",
   "execution_count": null,
   "metadata": {},
   "outputs": [],
   "source": [
    "import pandas as pd\n",
    "import matplotlib.pyplot as plt"
   ]
  },
  {
   "cell_type": "code",
   "execution_count": null,
   "metadata": {},
   "outputs": [],
   "source": [
    "df = pd.read_csv('path_to_file.csv PLACEHOLDER')\n",
    "categories = df['PLACEHOLDER']\n",
    "values = df['PLACEHOLDER']\n",
    "\n",
    "plt.bar(categories, values)\n",
    "\n",
    "plt.title('Bar Chart from CSV')\n",
    "plt.xlabel('Channel User')\n",
    "plt.ylabel('Participation Level')\n",
    "\n",
    "plt.show()"
   ]
  }
 ],
 "metadata": {
  "language_info": {
   "name": "python"
  },
  "orig_nbformat": 4
 },
 "nbformat": 4,
 "nbformat_minor": 2
}
